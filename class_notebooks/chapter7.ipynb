{
 "cells": [
  {
   "cell_type": "markdown",
   "metadata": {},
   "source": [
    "# chapter 7: Ensemble Learning and Random Forest"
   ]
  },
  {
   "cell_type": "markdown",
   "metadata": {},
   "source": [
    "Existe um conceito chamado 'wisdom of the crowd' ou sabedoria popular. Vários estudos mostram que ouvir opiniões das pessoas pode ser uma boa forma de estimar algum fenômeno.\n",
    "\n",
    "Em ML não é diferente! **Se nós agregarmos as predições de um grupo de preditores, obteremos resultados melhores que com o melhor preditor individualmente.**\n",
    "\n",
    "Um grupo de preditores é chamado de **ensemble**\n",
    "\n",
    "Exemplo: treine um conjunto de árvores de decisão em diferentes subconjuntos do dataset e use a resposta média para prever o resultado. Pronto, isso é uma Random Forest! Apesar de sua simplicidade, esse algoritmo é um dos mais poderoso na atualidade.\n",
    "\n",
    "Vamos, então, cair de boca no ensemble learning. Falaremos de bagging, boosting, stacking e outros!"
   ]
  },
  {
   "cell_type": "markdown",
   "metadata": {},
   "source": [
    "## Voting Classifiers\n",
    "\n",
    "Suponha que você treinou alguns classificadores - vamos supor 5 deles (regressão logística, svm, random forest, knn, ...).\n",
    "\n",
    "Cada um com 80% de acurácia (isso é uma boa métrica?). Queremos distinguir uma instância entre 2 classes: A e B.\n",
    "\n",
    "O vetor de predição dos nossos modelos é:\n",
    "(A, A, A, B, A)\n",
    "\n",
    "Surpreendentemente, essa votação em geral consegue um resultado melhor que o resultado do melhor classificador. \n",
    "\n",
    "Mesmo que cada modelo seja um 'weak learner' (performa pouco melhor que um chute aleatório), o emsemble deles pode ser um 'strong learner' (alta performance).\n",
    "\n",
    "Métodos de ensemble funcionam melhor quando os preditores são independentes entre si. Uma forma de obter isso é usando algoritmos muito diferentes. Isso vai levar a tipos de erros diferentes e, portanto, a uma melhora da performance do ensemble."
   ]
  },
  {
   "cell_type": "markdown",
   "metadata": {},
   "source": [
    "\n",
    "--------------\n",
    "Vamos criar um ensemble!\n",
    "\n",
    "--------------------\n",
    "\n"
   ]
  },
  {
   "cell_type": "code",
   "execution_count": 2,
   "metadata": {},
   "outputs": [
    {
     "output_type": "stream",
     "name": "stdout",
     "text": "\nKNeighborsClassifier 0.8688524590163934 0.872\n\n"
    },
    {
     "output_type": "display_data",
     "data": {
      "text/plain": "<Figure size 640x480 with 1 Axes>"
     },
     "metadata": {}
    },
    {
     "output_type": "stream",
     "name": "stdout",
     "text": "\nRandomForestClassifier 0.871369294605809 0.876\n\n"
    },
    {
     "output_type": "display_data",
     "data": {
      "text/plain": "<Figure size 640x480 with 1 Axes>"
     },
     "metadata": {}
    },
    {
     "output_type": "stream",
     "name": "stdout",
     "text": "\nSVC 0.8790322580645161 0.88\n\n"
    },
    {
     "output_type": "display_data",
     "data": {
      "text/plain": "<Figure size 640x480 with 1 Axes>"
     },
     "metadata": {}
    },
    {
     "output_type": "stream",
     "name": "stdout",
     "text": "\nVotingClassifier 0.8780487804878048 0.88\n\n"
    },
    {
     "output_type": "display_data",
     "data": {
      "text/plain": "<Figure size 640x480 with 1 Axes>"
     },
     "metadata": {}
    }
   ],
   "source": [
    "from sklearn.ensemble import RandomForestClassifier, VotingClassifier\n",
    "from sklearn.linear_model import LogisticRegression\n",
    "from sklearn.svm import SVC\n",
    "from sklearn.datasets import make_moons, make_circles\n",
    "from sklearn.neighbors import KNeighborsClassifier\n",
    "from sklearn.model_selection import train_test_split\n",
    "from mlxtend.plotting import plot_decision_regions\n",
    "import matplotlib.pyplot as plt\n",
    "\n",
    "knn_clf = KNeighborsClassifier()\n",
    "rnd_clf = RandomForestClassifier()\n",
    "svm_clf = SVC()\n",
    "\n",
    "#X, y = make_moons(10000, noise = 0.08, random_state=100)\n",
    "\n",
    "X, y = make_circles(1000, noise = 0.3, factor= 0.1, random_state=100)\n",
    "X_train, X_test, y_train, y_test = train_test_split(X, y)\n",
    "\n",
    "voting_clf = VotingClassifier(\n",
    "    estimators = [\n",
    "        ('knn', knn_clf),\n",
    "        ('rf', rnd_clf),\n",
    "        ('svc', svm_clf),\n",
    "    ],\n",
    "    voting='hard'\n",
    ")\n",
    "\n",
    "#voting_clf.fit(X_train, y_train)\n",
    "\n",
    "from sklearn.metrics import f1_score, accuracy_score\n",
    "\n",
    "for clf in (knn_clf, rnd_clf, svm_clf, voting_clf):\n",
    "\n",
    "    clf.fit(X_train, y_train)\n",
    "\n",
    "    y_pred = clf.predict(X_test)\n",
    "\n",
    "    print()\n",
    "    print(clf.__class__.__name__, f1_score(y_test, y_pred), accuracy_score(y_test, y_pred))\n",
    "    print()\n",
    "\n",
    "    plt.figure()\n",
    "    plot_decision_regions(X_test, y_test, clf)\n",
    "    plt.show()"
   ]
  },
  {
   "cell_type": "markdown",
   "metadata": {},
   "source": [
    "Se todos os preditores possuírem o método predict_proba torna-se possível usar voting = 'soft' que usa a média dos predict_proba's para determinar a classe.\n"
   ]
  },
  {
   "cell_type": "markdown",
   "metadata": {},
   "source": [
    "## Bagging and Pasting\n",
    "\n",
    "Uma forma de criar bons ensembles é usando vários modelos com algoritmos muito distintos. Por outro lado, existe a possibilidade de treinar vários modelos iguais sobre subconjuntos aleatórios do dataset!\n",
    "\n",
    "Quando amostramos com reposição o processo é chamado de **bagging** (short for\n",
    "bootstrap aggregating)\n",
    "\n",
    "Quando amostramos sem reposição o processo é chamado de **Pasting**\n",
    "\n",
    "Um dos grandes bizus é que isso permite treinar e prever usando computação paralela.\n",
    "\n",
    "### Bagging and Pasting no sklearn\n",
    "\n",
    "BaggingClassifier/BaggingRegressor"
   ]
  },
  {
   "cell_type": "code",
   "execution_count": 3,
   "metadata": {},
   "outputs": [
    {
     "output_type": "stream",
     "name": "stdout",
     "text": "Decision tree\n"
    },
    {
     "output_type": "display_data",
     "data": {
      "text/plain": "<Figure size 432x288 with 1 Axes>",
      "image/png": "[encoded data removed]"
     },
     "metadata": {
      "needs_background": "light"
     }
    },
    {
     "output_type": "stream",
     "name": "stdout",
     "text": "bagging de decisions tree\n"
    },
    {
     "output_type": "display_data",
     "data": {
      "text/plain": "<Figure size 432x288 with 1 Axes>",
      "image/png": "[encoded data removed]"
     },
     "metadata": {
      "needs_background": "light"
     }
    }
   ],
   "source": [
    "from sklearn.ensemble import BaggingClassifier\n",
    "from sklearn.tree import DecisionTreeClassifier\n",
    "\n",
    "X, y = make_moons(500, noise = 0.4, random_state=100)\n",
    "X_train, X_test, y_train, y_test = train_test_split(X, y)\n",
    "# voting = 'soft' automático (se for possível)\n",
    "\n",
    "tree_clf = DecisionTreeClassifier()\n",
    "bag_clf = BaggingClassifier(\n",
    "    \n",
    "    DecisionTreeClassifier(),\n",
    "    n_estimators=500,\n",
    "    max_samples=100,\n",
    "    bootstrap=True,\n",
    "    n_jobs=-1\n",
    "    \n",
    "    )\n",
    "tree_clf.fit(X_train, y_train)\n",
    "bag_clf.fit(X_train, y_train)\n",
    "y_pred = bag_clf.predict(X_test)\n",
    "#print('f1: ',f1_score(y_test, y_pred))\n",
    "#print('acc:', accuracy_score(y_test, y_pred))\n",
    "plt.figure()\n",
    "print('Decision tree')\n",
    "plot_decision_regions(X_test, y_test, tree_clf)\n",
    "plt.show()\n",
    "plt.figure()\n",
    "print('bagging de decisions tree')\n",
    "plot_decision_regions(X_test, y_test, bag_clf)\n",
    "plt.show()"
   ]
  },
  {
   "cell_type": "markdown",
   "metadata": {},
   "source": [
    "## Out-of-bag evaluation\n",
    "\n",
    "Com o bagging, algumas instâncias podem ser amostradas várias vezes para um determinado preditor enquanto outras podem até não serem amostradas. Em geral 63% doas instancias de treino são amostradas para cada preditor. Os outros 37% não amostrados são chamados de instâncias out-of-bag (oob). Perceba que não são os mesmos 37% para todos os preditores.\n",
    "\n",
    "Uma vez que um preditor nunca viu as oobs durante o treino, ele pode ser testado nessas instâncias sem a necessidade de um set separado de validação. Você pode testar o ensemble fazendo a média das métricas de cada preditor sobre os out of bag.\n",
    "\n",
    "No sklearn use oob_score=True quando criar um BaggingClassifier para ter uma teste automático sobre o oob após o treino"
   ]
  },
  {
   "cell_type": "code",
   "execution_count": 4,
   "metadata": {},
   "outputs": [
    {
     "output_type": "stream",
     "name": "stdout",
     "text": "oob:  0.824\ntestset:  0.824\n"
    }
   ],
   "source": [
    "bag_clf = BaggingClassifier(\n",
    "    DecisionTreeClassifier(),\n",
    "    n_estimators=500,\n",
    "    bootstrap=True,\n",
    "    n_jobs=-1,\n",
    "    oob_score=True\n",
    ")\n",
    "bag_clf.fit(X_train, y_train)\n",
    "print('oob: ', bag_clf.oob_score_)\n",
    "\n",
    "from sklearn.metrics import accuracy_score\n",
    "y_pred = bag_clf.predict(X_test)\n",
    "print('testset: ',accuracy_score(y_test, y_pred))"
   ]
  },
  {
   "cell_type": "markdown",
   "metadata": {},
   "source": [
    "## Random patches and random subspaces\n",
    "\n",
    "O BaggingClassifier suporta amostrar features também. Isso é controlado por 2 hiperparâmetros: max_features e bootstrap_features. Com isso, cada preditor vai ser treinado em um subconjunto aleatório das features de entrada.\n",
    "\n",
    "Isso é particulamente interessante para entradas de grande nº de dimensões (como imagens). \n",
    "\n",
    "Amostrar features e instâncias simultaneamente é uma técnica chamada *Random Patches method*. Manter todas as instâncias e amostrar apenas as features é chamado de *Random Subspaces method*\n",
    "\n",
    "Amostrar features resulta em mais diversidade de preditores. Adicionamos mais viés por um erro de variância menor."
   ]
  },
  {
   "cell_type": "markdown",
   "metadata": {},
   "source": [
    "## Random Forests\n",
    "\n",
    "As florestas aleatórias são exatamente ensembles de árvores de decisão. Normalmente agrupadas na estratégia de Bagging (as vezes pasting). Para usá-las é melhor usar os modelos já prontos do sklearn: **RandomForestClassifier e RandomForestRegressor**"
   ]
  },
  {
   "cell_type": "code",
   "execution_count": 5,
   "metadata": {},
   "outputs": [],
   "source": [
    "from sklearn.ensemble import RandomForestClassifier\n",
    "\n",
    "rnd_clf = RandomForestClassifier(n_estimators=500, max_leaf_nodes=16, n_jobs=-1)\n",
    "\n",
    "rnd_clf.fit(X_train, y_train)\n",
    "\n",
    "y_pred_rf = rnd_clf.predict(X_test)"
   ]
  },
  {
   "cell_type": "code",
   "execution_count": 6,
   "metadata": {},
   "outputs": [
    {
     "output_type": "execute_result",
     "data": {
      "text/plain": "0.848"
     },
     "metadata": {},
     "execution_count": 6
    }
   ],
   "source": [
    "accuracy_score(y_test, y_pred_rf)"
   ]
  },
  {
   "cell_type": "markdown",
   "metadata": {},
   "source": [
    "O algoritmo de floresta adicionas algumas aleatoriedades quando vai crescendo as árvores. Uma delas é a amostragem de features e instâncias."
   ]
  },
  {
   "cell_type": "markdown",
   "metadata": {},
   "source": [
    "### Extra-Trees (Extremely Randomized Trees ensemble)\n",
    "\n",
    "É como um floresta mas usa thresholds aleatórios para cada feature na hora da quebra ao invés de procurar pelo melhor threshold.\n",
    "\n",
    "Adiciona mais bias aos modelos.\n",
    "\n",
    "É muito rápido de treinar.\n",
    "\n",
    "Não é possível dizer qual dos dois modelos se sai melhor. Só metendo cross-val com os dois. Geralmente possuem desempenho parecido.\n"
   ]
  },
  {
   "cell_type": "markdown",
   "metadata": {},
   "source": [
    "### Feature importance\n",
    "\n",
    "Se você olhar para uma árvore de decisão solitária, features importantes tendem a aparecer próximas a raíz enquanto features menos importantes tendem a aparecer mais próximo as folhas.\n",
    "\n",
    "COM ISSO, podemos estimar uma métrica de feature importance ao computar a média da profundidade daquela feature ao longo das árvores da floresta.\n",
    "\n",
    "no sklearn: your_model.feature_importances_"
   ]
  },
  {
   "cell_type": "code",
   "execution_count": 7,
   "metadata": {},
   "outputs": [
    {
     "output_type": "stream",
     "name": "stdout",
     "text": "sepal length (cm) 0.10106520454051024\nsepal width (cm) 0.02583996218679553\npetal length (cm) 0.41911840553322044\npetal width (cm) 0.4539764277394737\n"
    }
   ],
   "source": [
    "from sklearn.datasets import load_iris\n",
    "iris = load_iris()\n",
    "rnd_clf = RandomForestClassifier(n_estimators=500, n_jobs=-1)\n",
    "rnd_clf.fit(iris[\"data\"], iris[\"target\"])\n",
    "for name, score in zip(iris[\"feature_names\"], rnd_clf.feature_importances_):\n",
    "    print(name, score)"
   ]
  },
  {
   "cell_type": "markdown",
   "metadata": {},
   "source": [
    "Random forests são úteis para ter um entendimento rápido das features que realmente importam."
   ]
  },
  {
   "cell_type": "markdown",
   "metadata": {},
   "source": [
    "## Boosting\n",
    "\n",
    "Boosting se refere a qualquer método de ensemble que combina vários 'weak learners' em um 'strong learner'.\n",
    "\n",
    "A ideia geral dos métodos de boosting é treinar preditores sequencialmente, cada um tentando consertar o erro de seu antecessor.\n",
    "\n",
    "Existem infinitos Boosting's por aí, vamos falar do AdaBoost e do Gradiente Boosting. Sugiro conhecer o catboost e o LGBM pra quem quer usar isso de verdade."
   ]
  },
  {
   "cell_type": "markdown",
   "metadata": {},
   "source": [
    "### AdaBoost\n",
    "\n",
    "Uma forma de um novo preditor corrigir os erros do antecessor é prestar mais atenção para a instâncias que o antecessor underfitou. Isso faz com que novos preditores foquem mais e mais nas instâncias difíceis. Essa é a técnica usada no AdaBoost.\n",
    "\n",
    "Por exemplo, para usar um classificador AdaBoost, um classificador base (uma árvore de decisão por exmeplo) é treinado e usado para fazer predições no set de treino. Então o peso relativo de instâncias mal classificadas é aumentado e um novo preditor tenta aprender e assim por diante.\n",
    "\n",
    "![](./imgs/adaboost.png)\n",
    "\n",
    "Aqui temos o efeito da adição de novos modelos. O segundo gráfico está com learning rate -0.5 o que significa que as instâncias erradas pesam menos na hora da correção.\n",
    "![](./imgs/ada.png)\n",
    "\n",
    "Desvantagem: não dá para paralelizar.\n",
    "\n",
    "No algoritmo AdaBoost cada instância começa com peso $w^{(i)}$ iniciado como $\\frac{1}{m}$. Depois do primeiro preditor ser treinado, a taxa de erro ponderada $r_1$ é calculada no dataset de treino\n",
    "\n",
    "$$r_j = \\frac{\\sum_{i=1, ŷ^{(i)}_j \\neq ŷ^{(i)}}^{m}{w^{(i)}}}{\\sum_{i=1}^{m}{w^{(i)}}}$$\n",
    "\n",
    "Basicamente a soma dos pesos errados sobre a soma de todos os pesos. Daí, calculamos $\\alpha_j$\n",
    "\n",
    "$$ \\alpha_j = \\eta \\cdot log{\\frac{1-r_j}{r_j}} $$\n",
    "\n",
    "Então os novos pesos são calculados:\n",
    "\n",
    "$$\n",
    " w^{(i)} = \\begin{cases}\n",
    "    w^{(i)}, & \\text{if } ŷ_j^{(i)} = y^{(i)}\\\\\n",
    "    w^{(i)} \\cdot exp(\\alpha_j), & \\text{if } ŷ_j^{(i)} \\neq y^{(i)}\n",
    "\\end{cases}\n",
    "$$\n",
    "\n",
    "E aí todos os pesos são normalizados (dividindo tudo pelo somatório de todos os pesos)\n",
    "\n",
    "Finalmente um novo preditor é treinado usando os pesos atualizados e todo o processo é repetido. O processo termina quando se atinge um número determinado de preditores ou quando um preditor perfeito é encontrado.\n",
    "\n",
    "#### predições\n",
    "\n",
    "$$\n",
    "ŷ(\\pmb x) = \\underset{k}{argmax} \\sum^{N}_{\\underset{ŷ_j(x) = k}{j = 1}} \\alpha_j\n",
    "$$\n",
    "\n",
    "É o cálculo das predições de todos os preditores com seus pesos. A classe predita é a que recebe a maior quantidade de votos ponderados."
   ]
  },
  {
   "cell_type": "code",
   "execution_count": 9,
   "metadata": {},
   "outputs": [
    {
     "output_type": "execute_result",
     "data": {
      "text/plain": "0.848"
     },
     "metadata": {},
     "execution_count": 9
    }
   ],
   "source": [
    "from sklearn.ensemble import AdaBoostClassifier\n",
    "\n",
    "ada_clf = AdaBoostClassifier(\n",
    "    DecisionTreeClassifier(max_depth=1),\n",
    "    n_estimators=200,\n",
    "    algorithm=\"SAMME.R\", # variação do modelo: consegue lidar com multiclasse e usa predict_proba\n",
    "    learning_rate=0.5\n",
    "    )\n",
    "\n",
    "# Perceba que o estimador base é muito regularizado (weak learner)\n",
    "ada_clf.fit(X_train, y_train)\n",
    "ada_clf.score(X_test, y_test)"
   ]
  },
  {
   "cell_type": "markdown",
   "metadata": {},
   "source": [
    "### Gradient Boosting\n",
    "\n",
    "Trabalha adicionando preditores em um ensemble, cada um corrigindo o antecessor. Mas ao invés de mudar pesos de instâncias a cada passo, esse método tenta fitar o novo preditor em cima do erro residual do preditor passado.\n"
   ]
  },
  {
   "cell_type": "code",
   "execution_count": 10,
   "metadata": {},
   "outputs": [],
   "source": [
    "from sklearn.ensemble import GradientBoostingRegressor\n",
    "gbrt = GradientBoostingRegressor(max_depth=2, n_estimators=3, learning_rate=1.0)"
   ]
  },
  {
   "cell_type": "markdown",
   "metadata": {},
   "source": [
    "![](./imgs/gb.png)"
   ]
  },
  {
   "cell_type": "markdown",
   "metadata": {},
   "source": [
    "O learning rate escala a contribuição de cada árvore, se ele for baixo, você vai precisar de mais árvores pra fitar, mas normalmente vai generalizar melhor também.\n",
    "\n",
    "![](./imgs/gb2.png)"
   ]
  },
  {
   "cell_type": "markdown",
   "metadata": {},
   "source": [
    "Para achar o número ótimo de árvores normalmente se usa early stopping já discutido anteriormente.\n",
    "![](./imgs/gb3.png)"
   ]
  },
  {
   "cell_type": "markdown",
   "metadata": {},
   "source": [
    "Stochastic Gradient Boosting: cada estimador treina sobre apenas uma fração dos dados."
   ]
  },
  {
   "cell_type": "markdown",
   "metadata": {},
   "source": [
    "## Stacking\n",
    "\n",
    "TREINAR UM MODELO (blender ou meta learner) PARA AGREGAR AS PREVISÕES DE OUTROS MODELOS E DAR A PALAVRA FINAL: ULTRA STONKS.\n",
    "\n",
    "Para isso você vai precisar dividir o dataset de treino em treino dos modelos e treino do blender (hold-out set).\n",
    "\n"
   ]
  },
  {
   "cell_type": "markdown",
   "metadata": {},
   "source": [
    "![](./imgs/stacking.png)"
   ]
  },
  {
   "cell_type": "markdown",
   "metadata": {},
   "source": [
    "Dá pra fazer camadas de blending também!\n",
    "![](./imgs/blending2.png)"
   ]
  },
  {
   "cell_type": "markdown",
   "metadata": {},
   "source": [
    "sklearn não tem stacking implementado mas é fácil fazer. Uma alternativa é usar o 'brew'"
   ]
  },
  {
   "cell_type": "markdown",
   "metadata": {},
   "source": [
    "# FIM"
   ]
  },
  {
   "cell_type": "markdown",
   "metadata": {},
   "source": [
    "Sugou os exercicios por enquanto, comp ta dificil :(\n"
   ]
  },
  {
   "cell_type": "code",
   "execution_count": null,
   "metadata": {},
   "outputs": [],
   "source": []
  }
 ],
 "metadata": {
  "language_info": {
   "codemirror_mode": {
    "name": "ipython",
    "version": 3
   },
   "file_extension": ".py",
   "mimetype": "text/x-python",
   "name": "python",
   "nbconvert_exporter": "python",
   "pygments_lexer": "ipython3",
   "version": "3.7.4-final"
  },
  "orig_nbformat": 2,
  "kernelspec": {
   "name": "python37464bitanaconda3virtualenv2d4ee57395ed49639435b8b2b96a9cbb",
   "display_name": "Python 3.7.4 64-bit ('anaconda3': virtualenv)"
  }
 },
 "nbformat": 4,
 "nbformat_minor": 2
}